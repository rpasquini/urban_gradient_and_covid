{
  "nbformat": 4,
  "nbformat_minor": 0,
  "metadata": {
    "colab": {
      "name": "Trabajo_final_2021.ipynb",
      "provenance": [],
      "authorship_tag": "ABX9TyP1vRaoBt276pW9N1RAPWcf",
      "include_colab_link": true
    },
    "kernelspec": {
      "display_name": "Python 3",
      "name": "python3"
    },
    "language_info": {
      "name": "python"
    }
  },
  "cells": [
    {
      "cell_type": "markdown",
      "metadata": {
        "id": "view-in-github",
        "colab_type": "text"
      },
      "source": [
        "<a href=\"https://colab.research.google.com/github/rpasquini/urban_gradient_and_covid/blob/main/Trabajo_final_2021.ipynb\" target=\"_parent\"><img src=\"https://colab.research.google.com/assets/colab-badge.svg\" alt=\"Open In Colab\"/></a>"
      ]
    },
    {
      "cell_type": "markdown",
      "metadata": {
        "id": "C0qGHhYtXtjJ"
      },
      "source": [
        "**Metodos Cuantitativos Aplicados a Estudios Urbanos** \\\\\n",
        "Profesor Ricardo Pasquini \\\\\n",
        "Universidad Torcuato Di Tella \\\\\n",
        "rpasquini@gmail.com"
      ]
    },
    {
      "cell_type": "markdown",
      "metadata": {
        "id": "yyTvwUhb5vDm"
      },
      "source": [
        "En este trabajo final vamos a analizar si el gradiente de alquileres asociado a la teoria de la aglomeracion, ha cambiado a raiz del COVID. Analizaremos  ciudades seleccionadas de América Latina, utilizando datos de Properati. (https://www.properati.com.ar/data/). Cada grupo trabajara con una única ciudad.\n",
        "\n",
        "**Importante:**\n",
        "\n",
        "\n",
        "*   El trabajo se realiza en grupos de hasta 2 personas.\n",
        "*   Las instrucciones para registrar su grupo y ciudad están en el sitio del campus UTDT de la materia. Deben buscar Trabajo Final.\n",
        "*   La entrega se realiza **exclusivamente** mediante el Campus UTDT. \n",
        "\n"
      ]
    },
    {
      "cell_type": "markdown",
      "metadata": {
        "id": "K8BfX57_vsqm"
      },
      "source": [
        "# Preparacion del ambiente de trabajo y del geodataframe"
      ]
    },
    {
      "cell_type": "code",
      "metadata": {
        "colab": {
          "base_uri": "https://localhost:8080/"
        },
        "id": "SngkwofrjBMW",
        "outputId": "bd413dc9-b85c-4a1b-ae84-96c042e7dc33"
      },
      "source": [
        "!pip install geopandas"
      ],
      "execution_count": null,
      "outputs": [
        {
          "output_type": "stream",
          "text": [
            "Requirement already satisfied: geopandas in /usr/local/lib/python3.7/dist-packages (0.9.0)\n",
            "Requirement already satisfied: shapely>=1.6 in /usr/local/lib/python3.7/dist-packages (from geopandas) (1.7.1)\n",
            "Requirement already satisfied: pandas>=0.24.0 in /usr/local/lib/python3.7/dist-packages (from geopandas) (1.1.5)\n",
            "Requirement already satisfied: pyproj>=2.2.0 in /usr/local/lib/python3.7/dist-packages (from geopandas) (3.1.0)\n",
            "Requirement already satisfied: fiona>=1.8 in /usr/local/lib/python3.7/dist-packages (from geopandas) (1.8.20)\n",
            "Requirement already satisfied: setuptools in /usr/local/lib/python3.7/dist-packages (from fiona>=1.8->geopandas) (57.2.0)\n",
            "Requirement already satisfied: cligj>=0.5 in /usr/local/lib/python3.7/dist-packages (from fiona>=1.8->geopandas) (0.7.2)\n",
            "Requirement already satisfied: attrs>=17 in /usr/local/lib/python3.7/dist-packages (from fiona>=1.8->geopandas) (21.2.0)\n",
            "Requirement already satisfied: six>=1.7 in /usr/local/lib/python3.7/dist-packages (from fiona>=1.8->geopandas) (1.15.0)\n",
            "Requirement already satisfied: certifi in /usr/local/lib/python3.7/dist-packages (from fiona>=1.8->geopandas) (2021.5.30)\n",
            "Requirement already satisfied: click-plugins>=1.0 in /usr/local/lib/python3.7/dist-packages (from fiona>=1.8->geopandas) (1.1.1)\n",
            "Requirement already satisfied: click>=4.0 in /usr/local/lib/python3.7/dist-packages (from fiona>=1.8->geopandas) (7.1.2)\n",
            "Requirement already satisfied: munch in /usr/local/lib/python3.7/dist-packages (from fiona>=1.8->geopandas) (2.5.0)\n",
            "Requirement already satisfied: python-dateutil>=2.7.3 in /usr/local/lib/python3.7/dist-packages (from pandas>=0.24.0->geopandas) (2.8.1)\n",
            "Requirement already satisfied: pytz>=2017.2 in /usr/local/lib/python3.7/dist-packages (from pandas>=0.24.0->geopandas) (2018.9)\n",
            "Requirement already satisfied: numpy>=1.15.4 in /usr/local/lib/python3.7/dist-packages (from pandas>=0.24.0->geopandas) (1.19.5)\n"
          ],
          "name": "stdout"
        }
      ]
    },
    {
      "cell_type": "code",
      "metadata": {
        "colab": {
          "base_uri": "https://localhost:8080/"
        },
        "id": "e2ygTqm3jT72",
        "outputId": "189391c8-9b2a-4bc3-8466-871b7981de94"
      },
      "source": [
        "import geopandas as gpd\n",
        "import statsmodels.api as sm"
      ],
      "execution_count": null,
      "outputs": [
        {
          "output_type": "stream",
          "text": [
            "/usr/local/lib/python3.7/dist-packages/statsmodels/tools/_testing.py:19: FutureWarning: pandas.util.testing is deprecated. Use the functions in the public API at pandas.testing instead.\n",
            "  import pandas.util.testing as tm\n"
          ],
          "name": "stderr"
        }
      ]
    },
    {
      "cell_type": "markdown",
      "metadata": {
        "id": "jxXOvA77C__8"
      },
      "source": [
        "En la siguiente celda de codigo, modifique la url correspondiente a la ciudad con la que va a trabajar."
      ]
    },
    {
      "cell_type": "code",
      "metadata": {
        "id": "xMM7PEe1jVxg"
      },
      "source": [
        "gdf=gpd.GeoDataFrame.from_file(\"https://github.com/rpasquini/urban_gradient_and_covid/blob/main/data/bogota.zip?raw=true\")"
      ],
      "execution_count": null,
      "outputs": []
    },
    {
      "cell_type": "code",
      "metadata": {
        "id": "fUQiRNSIjriG"
      },
      "source": [
        "gdf.plot()"
      ],
      "execution_count": null,
      "outputs": []
    },
    {
      "cell_type": "markdown",
      "metadata": {
        "id": "lN5b7XVhSzfO"
      },
      "source": [
        "Vamos a trabajar eliminar el 5% de las propiedades de mayor precio de manera de evitar problemas de outliers. "
      ]
    },
    {
      "cell_type": "code",
      "metadata": {
        "id": "palqQ2r7Sxne"
      },
      "source": [
        "gdf=gdf.loc[gdf.price<gdf.price.quantile(.95)]"
      ],
      "execution_count": null,
      "outputs": []
    },
    {
      "cell_type": "markdown",
      "metadata": {
        "id": "om6F9nwLqeo4"
      },
      "source": [
        "Las variables disponibles en el dataframe son las siguientes:"
      ]
    },
    {
      "cell_type": "code",
      "metadata": {
        "colab": {
          "base_uri": "https://localhost:8080/"
        },
        "id": "nwuqC6ZjqjWG",
        "outputId": "c954bb05-f5b1-44ad-d90e-e69582f960e0"
      },
      "source": [
        "gdf.columns"
      ],
      "execution_count": null,
      "outputs": [
        {
          "output_type": "execute_result",
          "data": {
            "text/plain": [
              "Index(['type', 'type_i18n', 'country', 'developmen', 'operation', 'operation_',\n",
              "       'rooms', 'bedrooms', 'bathrooms', 'surface_to', 'surface_co', 'price',\n",
              "       'currency', 'price_peri', 'title', 'lat', 'lon', 'l1', 'l2', 'l3', 'l4',\n",
              "       'l5', 'l6', 'distanciaC', 'start_mont', 'start_year', 'infla',\n",
              "       'adjprice', 'geometry', 'post'],\n",
              "      dtype='object')"
            ]
          },
          "metadata": {
            "tags": []
          },
          "execution_count": 37
        }
      ]
    },
    {
      "cell_type": "markdown",
      "metadata": {
        "id": "YPjR6hKSqpUz"
      },
      "source": [
        "Nos interesan las siguientes:\n",
        "- 'bedrooms': Numero de habitaciones\n",
        "- 'surface_to': Superficie total\n",
        "- 'price': Valor de alquiler en la moneda local\n",
        "- 'start_mont' Mes en que se empezo a ofrecer el anuncio. Ojo que dice mont y no month.\n",
        "- 'start_year': Año en el que se comenzó a ofrecer\n",
        "- 'adjprice': Precio ajustado por inflacion\n",
        "- 'distanciaC': Distancia al centro de negocios o *central business district* CBD.\n"
      ]
    },
    {
      "cell_type": "markdown",
      "metadata": {
        "id": "GVraBcAC_oh3"
      },
      "source": [
        "# Pregunta 1\n",
        "Estimaremos un modelo para identificar la presencia de un gradiente urbano. Nuestra intención es verificar si existe una relación entre la distancia al centro de negocios de la ciudad y el valor de los alquileres.  \n",
        "\n",
        "Propondremos inicialmente la estimación del siguiente modelo\n",
        "$$\n",
        "alquiler_i=\\beta_0+\\beta_1distanciaC_i+\\epsilon_i\n",
        "$$\n",
        "Donde alquiler_i es el valor del alquiler del inmueble $i$, y $dist_i$ representa la distancia respecto al centro de negocios de la ciudad en cuestión. La distancia está computada en metros. La moneda del alquiler depende de la ciudad en cuestión (ver detalles en planilla de referencias)\n",
        "\n",
        "\n",
        "**Importante:** Los que trabajen con datos de Argentina deben utilizar la variable *adjprice* en vez de *price*\n"
      ]
    },
    {
      "cell_type": "markdown",
      "metadata": {
        "id": "CUqCsMRSB7OM"
      },
      "source": [
        "1.a Estime el modelo. Interprete los coeficientes estimados. \\\\\n",
        "1.b. Diagnostique si la variable $distancia$ tiene un efecto estadísticamente significativo en el alquiler. \\\\\n",
        "1.c Evalue la bondad de ajuste del modelo sobre la variabilidad del alquiler \\\\\n",
        "1.d ¿Que dicen los resultados sobre la hipotesis de efectos de la aglomeracion en el valor del alquiler?"
      ]
    },
    {
      "cell_type": "markdown",
      "metadata": {
        "id": "0oGoKI2nTbRx"
      },
      "source": [
        "# Pregunta 2\n",
        "En base a los resultados del modelo anterior: \\\\\n",
        "a. Realice una predicción para el valor de un alquiler a 100 metros del CBD \\\\\n",
        "b. Realice una predicción para el valor de un alquiler a 5km del CBD. \\\\\n",
        "c. Realice un grafico cross-plot con las distancias al CBD en el eje horizontal y los precios en el eje vertical. Superponga la predicción del modelo. Ayuda: puede consultar este [notebook](https://github.com/rpasquini/metodos_cuantitativos_2021/blob/main/1_Introduccion.ipynb)"
      ]
    },
    {
      "cell_type": "markdown",
      "metadata": {
        "id": "ozAN-F6eHHoD"
      },
      "source": [
        "## Pregunta 3\n",
        "\n",
        "Analice el cumplimiento del supuesto de errores normales. Utilice para ello alguno de los gráficos de diagnóstico sobre los mismos que  vimos en clase.\n",
        " Luego responda, explicando sus resultados: \\\\\n",
        "a. ¿Presentan los residuos una distribución normal? \\\\\n",
        "b. ¿Puede considerarse válido el test de hipótesis en este caso particular? Por qué si o por qué no? \\\\"
      ]
    },
    {
      "cell_type": "markdown",
      "metadata": {
        "id": "Vvj6sMHgMm6l"
      },
      "source": [
        "## Pregunta 4\n",
        "\n",
        "Reestime el modelo anterior haciendo alguna transformación en la forma funcional que ayude al cumplimiento de la normalidad de los errores. Provea una interpretación de los coeficientes obtenidos  luego de la transformación."
      ]
    },
    {
      "cell_type": "markdown",
      "metadata": {
        "id": "Z_pxE_-6XabF"
      },
      "source": [
        "## Pregunta 5\n",
        "\n",
        "Siguiendo con el objetivo de identificar el efecto de la aglomeración usando la distancia al CBD, vamos a considerar ahora la incorporación del control de la superficie del departamento como una variable de control. \\\\\n",
        " a. En términos téoricos: ¿Es la superficie del departamento una  variable *relevante* que no puede ser omitida? ¿Por\n",
        "   qué si o por qué no? \\\\\n",
        " b.Incorpore la superificie del departamento al modelo. Compute el modelo y explique todos los resultados. En particular, compare los resultados del coeficiente que acompaña a distancia antes y después de la incorporación del control."
      ]
    },
    {
      "cell_type": "markdown",
      "metadata": {
        "id": "yCcsCr_tZ_8i"
      },
      "source": [
        "# Pregunta 6\n",
        "Siguiendo con el punto anterior, ahora vamos a considerar la incorporación del control adicional de la cantidad de habitaciones del departamento. \\\\\n",
        "a. En términos téoricos, y para los efectos de entender el efecto de la aglomeracion (distanciaCBD): ¿Es la cantidad de habitaciones una variable relevante que no puede ser omitida? ¿Por qué si o por qué no? \\\\\n",
        "b.Incorpore la cantidad de habitaciones al modelo. Compute el modelo y explique todos los resultados. En particular, compare los resultados del coeficiente que acompaña a distancia antes y después de la incorporación del nuevo control. \\\\\n",
        "c. Como cambio el coeficiente de la variable superficie al incorporar la cantidad de habitaciones al modelo? Como se explica este cambio?"
      ]
    },
    {
      "cell_type": "markdown",
      "metadata": {
        "id": "qrED8kanbkGE"
      },
      "source": [
        "# Pregunta 7\n",
        "Las variables **start_year** y **start_mont** presentan la informacion del año y mes en el que el anuncio se publico respectivamente. \\\\\n",
        "a. Genere una variable dummy para identificar las observaciones posteriores al advenimiento del covid en marzo 2020 (i.e., 1 si es posterior a marzo 2020 y 0 de otro modo) \\\\\n",
        "b. Ingrese la variable dummy al modelo con el que viene trabajando. Interprete el coeficiente."
      ]
    },
    {
      "cell_type": "markdown",
      "metadata": {
        "id": "IVRB7iH-l4yQ"
      },
      "source": [
        "# Pregunta 8\n",
        "\n",
        "En esta punto vamos a indagar la hipótesis de que el COVID afectó el gradiente urbano de alquileres. Vamos a estimar el siguiente modelo:\n",
        "\n",
        "$$\n",
        "alquiler_i=\\beta_0+\\beta_1distanciaC_i+\\beta_2(distanciaC_i * Post_t)+\\epsilon_i\n",
        "$$\n",
        "\n",
        "donde $Post_t$ es una variable dummy que identifica si la oferta fue realizada posterior a marzo 2020 y 0 de otro modo (calculada en el punto anterior).\n",
        "Note que la variable que acompaña a $\\beta_2$ en la ecuacion ($distanciaC_i * Post_t$)  es la multiplicación entre la distancia al CBD y la variable dummy $Post_t$. **Esta es una variable que usted debera generar por separado.** \\\\\n",
        "a. Estime el modelo. Interprete los coeficientes obtenidos. \\\\\n",
        "b. Es $\\beta_2$ estadisticamente significativo? Como se interpreta este resultado? \\\\\n",
        "c. (Opcional) Realice un grafico de las predicciones del modelo contra la variable distancia, de manera similar al punto 2.c\n",
        "d. ¿Cuáles son sus conclusiones en relacion al efecto del Covid sobre el gradiente de alquileres?\n"
      ]
    }
  ]
}